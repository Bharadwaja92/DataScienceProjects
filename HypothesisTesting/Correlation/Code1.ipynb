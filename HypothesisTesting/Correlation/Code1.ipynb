{
 "cells": [
  {
   "cell_type": "code",
   "execution_count": 2,
   "metadata": {
    "collapsed": true
   },
   "outputs": [
    {
     "name": "stdout",
     "output_type": "stream",
     "text": [
      "Imports done\n"
     ]
    }
   ],
   "source": [
    "import pandas as pd\n",
    "import numpy as np\n",
    "from matplotlib import pyplot as plt\n",
    "\n",
    "pd.set_option('display.max_colwidth', -1)\n",
    "pd.set_option('float_format', '{:f}'.format)\n",
    "pd.set_option('display.max_columns', 500)\n",
    "pd.set_option('display.width', 1000)\n",
    "np.set_printoptions(threshold=np.nan)\n",
    "\n",
    "print('Imports done')\n"
   ]
  },
  {
   "cell_type": "code",
   "execution_count": 3,
   "metadata": {},
   "outputs": [],
   "source": [
    "path = 'http://archive.ics.uci.edu/ml/machine-learning-databases/auto-mpg/auto-mpg.data'\n",
    "\n",
    "mpg_data = pd.read_csv(path, delim_whitespace=True, header=None, na_values='?',\n",
    "                       names=['mpg', 'cylinders', 'displacement', 'horsepower', 'weight', 'acceleration',\n",
    "                            'model_year', 'origin', 'name'])\n"
   ]
  },
  {
   "cell_type": "code",
   "execution_count": 4,
   "metadata": {},
   "outputs": [
    {
     "name": "stdout",
     "output_type": "stream",
     "text": [
      "Correlation between mpg and weight is -0.8317409332443352\n"
     ]
    }
   ],
   "source": [
    "corr1 = mpg_data['mpg'].corr(mpg_data['weight'])\n",
    "print('Correlation between mpg and weight is', corr1)\n"
   ]
  },
  {
   "cell_type": "code",
   "execution_count": 5,
   "metadata": {},
   "outputs": [
    {
     "name": "stdout",
     "output_type": "stream",
     "text": [
      "Pairwise correlation\n                   mpg  cylinders  displacement  horsepower    weight  acceleration\nmpg          1.000000  -0.821864  -0.855692     -0.853616   -0.874947 0.438677     \ncylinders    -0.821864 1.000000   0.911876      0.816188    0.873314  -0.474189    \ndisplacement -0.855692 0.911876   1.000000      0.876171    0.945986  -0.496512    \nhorsepower   -0.853616 0.816188   0.876171      1.000000    0.878819  -0.658142    \nweight       -0.874947 0.873314   0.945986      0.878819    1.000000  -0.404550    \nacceleration 0.438677  -0.474189  -0.496512     -0.658142   -0.404550 1.000000     \n"
     ]
    }
   ],
   "source": [
    "print('Pairwise correlation')\n",
    "corr2 = mpg_data.drop(['model_year', 'origin'], axis=1).corr(method='spearman')\n",
    "print(corr2)\n"
   ]
  },
  {
   "cell_type": "code",
   "execution_count": 8,
   "metadata": {},
   "outputs": [
    {
     "name": "stdout",
     "output_type": "stream",
     "text": [
      "                   mpg  cylinders  displacement  horsepower    weight  acceleration\nmpg          1.000000  -0.775396  -0.804203     -0.778427   -0.831741 0.420289     \ncylinders    -0.775396 1.000000   0.950721      0.842983    0.896017  -0.505419    \ndisplacement -0.804203 0.950721   1.000000      0.897257    0.932824  -0.543684    \nhorsepower   -0.778427 0.842983   0.897257      1.000000    0.864538  -0.689196    \nweight       -0.831741 0.896017   0.932824      0.864538    1.000000  -0.417457    \nacceleration 0.420289  -0.505419  -0.543684     -0.689196   -0.417457 1.000000     \n"
     ]
    }
   ],
   "source": [
    ""
   ]
  },
  {
   "cell_type": "code",
   "execution_count": null,
   "metadata": {},
   "outputs": [],
   "source": []
  },
  {
   "cell_type": "code",
   "execution_count": null,
   "metadata": {},
   "outputs": [],
   "source": []
  },
  {
   "cell_type": "code",
   "execution_count": null,
   "metadata": {},
   "outputs": [],
   "source": [
    "print('Done')"
   ]
  }
 ],
 "metadata": {
  "kernelspec": {
   "display_name": "Python 2",
   "language": "python",
   "name": "python2"
  },
  "language_info": {
   "codemirror_mode": {
    "name": "ipython",
    "version": 2
   },
   "file_extension": ".py",
   "mimetype": "text/x-python",
   "name": "python",
   "nbconvert_exporter": "python",
   "pygments_lexer": "ipython2",
   "version": "2.7.6"
  }
 },
 "nbformat": 4,
 "nbformat_minor": 0
}
